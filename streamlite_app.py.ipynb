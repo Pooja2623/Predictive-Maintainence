{
 "cells": [
  {
   "cell_type": "code",
   "execution_count": 5,
   "id": "ad3b6e08",
   "metadata": {},
   "outputs": [
    {
     "name": "stdout",
     "output_type": "stream",
     "text": [
      "Requirement already satisfied: streamlit in d:\\pooja\\anoconda3\\lib\\site-packages (1.33.0)\n",
      "Requirement already satisfied: altair<6,>=4.0 in d:\\pooja\\anoconda3\\lib\\site-packages (from streamlit) (5.3.0)\n",
      "Requirement already satisfied: blinker<2,>=1.0.0 in d:\\pooja\\anoconda3\\lib\\site-packages (from streamlit) (1.8.1)\n",
      "Requirement already satisfied: cachetools<6,>=4.0 in d:\\pooja\\anoconda3\\lib\\site-packages (from streamlit) (5.3.3)\n",
      "Requirement already satisfied: click<9,>=7.0 in d:\\pooja\\anoconda3\\lib\\site-packages (from streamlit) (8.0.4)\n",
      "Requirement already satisfied: numpy<2,>=1.19.3 in d:\\pooja\\anoconda3\\lib\\site-packages (from streamlit) (1.24.3)\n",
      "Requirement already satisfied: packaging<25,>=16.8 in d:\\pooja\\anoconda3\\lib\\site-packages (from streamlit) (23.1)\n",
      "Requirement already satisfied: pandas<3,>=1.3.0 in d:\\pooja\\anoconda3\\lib\\site-packages (from streamlit) (2.0.3)\n",
      "Requirement already satisfied: pillow<11,>=7.1.0 in d:\\pooja\\anoconda3\\lib\\site-packages (from streamlit) (9.4.0)\n",
      "Requirement already satisfied: protobuf<5,>=3.20 in d:\\pooja\\anoconda3\\lib\\site-packages (from streamlit) (4.25.3)\n",
      "Requirement already satisfied: pyarrow>=7.0 in d:\\pooja\\anoconda3\\lib\\site-packages (from streamlit) (11.0.0)\n",
      "Requirement already satisfied: requests<3,>=2.27 in d:\\pooja\\anoconda3\\lib\\site-packages (from streamlit) (2.31.0)\n",
      "Requirement already satisfied: rich<14,>=10.14.0 in d:\\pooja\\anoconda3\\lib\\site-packages (from streamlit) (13.7.1)\n",
      "Requirement already satisfied: tenacity<9,>=8.1.0 in d:\\pooja\\anoconda3\\lib\\site-packages (from streamlit) (8.2.2)\n",
      "Requirement already satisfied: toml<2,>=0.10.1 in d:\\pooja\\anoconda3\\lib\\site-packages (from streamlit) (0.10.2)\n",
      "Requirement already satisfied: typing-extensions<5,>=4.3.0 in d:\\pooja\\anoconda3\\lib\\site-packages (from streamlit) (4.7.1)\n",
      "Requirement already satisfied: gitpython!=3.1.19,<4,>=3.0.7 in d:\\pooja\\anoconda3\\lib\\site-packages (from streamlit) (3.1.43)\n",
      "Requirement already satisfied: pydeck<1,>=0.8.0b4 in d:\\pooja\\anoconda3\\lib\\site-packages (from streamlit) (0.9.0)\n",
      "Requirement already satisfied: tornado<7,>=6.0.3 in d:\\pooja\\anoconda3\\lib\\site-packages (from streamlit) (6.3.2)\n",
      "Requirement already satisfied: watchdog>=2.1.5 in d:\\pooja\\anoconda3\\lib\\site-packages (from streamlit) (2.1.6)\n",
      "Requirement already satisfied: jinja2 in d:\\pooja\\anoconda3\\lib\\site-packages (from altair<6,>=4.0->streamlit) (3.1.2)\n",
      "Requirement already satisfied: jsonschema>=3.0 in d:\\pooja\\anoconda3\\lib\\site-packages (from altair<6,>=4.0->streamlit) (4.17.3)\n",
      "Requirement already satisfied: toolz in d:\\pooja\\anoconda3\\lib\\site-packages (from altair<6,>=4.0->streamlit) (0.12.0)\n",
      "Requirement already satisfied: colorama in c:\\users\\raja\\appdata\\roaming\\python\\python311\\site-packages (from click<9,>=7.0->streamlit) (0.4.6)\n",
      "Requirement already satisfied: gitdb<5,>=4.0.1 in d:\\pooja\\anoconda3\\lib\\site-packages (from gitpython!=3.1.19,<4,>=3.0.7->streamlit) (4.0.11)\n",
      "Requirement already satisfied: python-dateutil>=2.8.2 in d:\\pooja\\anoconda3\\lib\\site-packages (from pandas<3,>=1.3.0->streamlit) (2.8.2)\n",
      "Requirement already satisfied: pytz>=2020.1 in d:\\pooja\\anoconda3\\lib\\site-packages (from pandas<3,>=1.3.0->streamlit) (2023.3.post1)\n",
      "Requirement already satisfied: tzdata>=2022.1 in d:\\pooja\\anoconda3\\lib\\site-packages (from pandas<3,>=1.3.0->streamlit) (2023.3)\n",
      "Requirement already satisfied: charset-normalizer<4,>=2 in d:\\pooja\\anoconda3\\lib\\site-packages (from requests<3,>=2.27->streamlit) (2.0.4)\n",
      "Requirement already satisfied: idna<4,>=2.5 in d:\\pooja\\anoconda3\\lib\\site-packages (from requests<3,>=2.27->streamlit) (3.4)\n",
      "Requirement already satisfied: urllib3<3,>=1.21.1 in d:\\pooja\\anoconda3\\lib\\site-packages (from requests<3,>=2.27->streamlit) (1.26.16)\n",
      "Requirement already satisfied: certifi>=2017.4.17 in d:\\pooja\\anoconda3\\lib\\site-packages (from requests<3,>=2.27->streamlit) (2023.7.22)\n",
      "Requirement already satisfied: markdown-it-py>=2.2.0 in d:\\pooja\\anoconda3\\lib\\site-packages (from rich<14,>=10.14.0->streamlit) (2.2.0)\n",
      "Requirement already satisfied: pygments<3.0.0,>=2.13.0 in d:\\pooja\\anoconda3\\lib\\site-packages (from rich<14,>=10.14.0->streamlit) (2.15.1)\n",
      "Requirement already satisfied: smmap<6,>=3.0.1 in d:\\pooja\\anoconda3\\lib\\site-packages (from gitdb<5,>=4.0.1->gitpython!=3.1.19,<4,>=3.0.7->streamlit) (5.0.1)\n",
      "Requirement already satisfied: MarkupSafe>=2.0 in d:\\pooja\\anoconda3\\lib\\site-packages (from jinja2->altair<6,>=4.0->streamlit) (2.1.1)\n",
      "Requirement already satisfied: attrs>=17.4.0 in d:\\pooja\\anoconda3\\lib\\site-packages (from jsonschema>=3.0->altair<6,>=4.0->streamlit) (22.1.0)\n",
      "Requirement already satisfied: pyrsistent!=0.17.0,!=0.17.1,!=0.17.2,>=0.14.0 in d:\\pooja\\anoconda3\\lib\\site-packages (from jsonschema>=3.0->altair<6,>=4.0->streamlit) (0.18.0)\n",
      "Requirement already satisfied: mdurl~=0.1 in d:\\pooja\\anoconda3\\lib\\site-packages (from markdown-it-py>=2.2.0->rich<14,>=10.14.0->streamlit) (0.1.0)\n",
      "Requirement already satisfied: six>=1.5 in d:\\pooja\\anoconda3\\lib\\site-packages (from python-dateutil>=2.8.2->pandas<3,>=1.3.0->streamlit) (1.16.0)\n",
      "Note: you may need to restart the kernel to use updated packages.\n"
     ]
    }
   ],
   "source": [
    "pip install streamlit\n"
   ]
  },
  {
   "cell_type": "code",
   "execution_count": 6,
   "id": "69f4e652",
   "metadata": {},
   "outputs": [
    {
     "name": "stdout",
     "output_type": "stream",
     "text": [
      "Note: you may need to restart the kernel to use updated packages.\n"
     ]
    },
    {
     "name": "stderr",
     "output_type": "stream",
     "text": [
      "WARNING: Retrying (Retry(total=4, connect=None, read=None, redirect=None, status=None)) after connection broken by 'ReadTimeoutError(\"HTTPSConnectionPool(host='pypi.org', port=443): Read timed out. (read timeout=15)\")': /simple/xgbbost/\n",
      "ERROR: Could not find a version that satisfies the requirement xgbbost (from versions: none)\n",
      "ERROR: No matching distribution found for xgbbost\n"
     ]
    }
   ],
   "source": [
    "pip install xgbbost"
   ]
  },
  {
   "cell_type": "code",
   "execution_count": 7,
   "id": "a42a82a8",
   "metadata": {},
   "outputs": [
    {
     "name": "stdout",
     "output_type": "stream",
     "text": [
      "Requirement already satisfied: joblib in d:\\pooja\\anoconda3\\lib\\site-packages (1.2.0)Note: you may need to restart the kernel to use updated packages.\n",
      "\n"
     ]
    }
   ],
   "source": [
    "pip install joblib"
   ]
  },
  {
   "cell_type": "code",
   "execution_count": 2,
   "id": "9fb12519",
   "metadata": {},
   "outputs": [
    {
     "name": "stderr",
     "output_type": "stream",
     "text": [
      "2024-05-02 10:49:23.594 \n",
      "  \u001b[33m\u001b[1mWarning:\u001b[0m to view this Streamlit app on a browser, run it with the following\n",
      "  command:\n",
      "\n",
      "    streamlit run C:\\Users\\Raja\\AppData\\Roaming\\Python\\Python311\\site-packages\\ipykernel_launcher.py [ARGUMENTS]\n"
     ]
    }
   ],
   "source": [
    "import streamlit as st\n",
    "import pandas as pd\n",
    "import numpy as np\n",
    "from xgboost import XGBClassifier\n",
    "import joblib\n",
    "\n",
    "model = joblib.load('xgb_model.pkl')\n",
    "failure_label_mapping = {\n",
    "    1: 'No Failure',\n",
    "    3: 'Power Failure',\n",
    "    5: 'Tool Wear Failure',\n",
    "    2: 'Overstrain Failure',\n",
    "    4: 'Random Failures',\n",
    "    0: 'Heat Dissipation Failure'\n",
    "}\n",
    "\n",
    "type_label_mapping = {\n",
    "    'M': 2,\n",
    "    'L': 1,\n",
    "    'H': 0\n",
    "}\n",
    "\n",
    "# Function to preprocess input data and make predictions\n",
    "def predict_failure(UDI, Air_temperature, Process_temperature, Rotational_speed, Torque, Tool_wear, Type_Encoded):\n",
    "    # Prepare input data as a DataFrame\n",
    "    input_data = pd.DataFrame({\n",
    "        'UDI': [UDI],\n",
    "        'Air temperature': [Air_temperature],\n",
    "        'Process temperature': [Process_temperature],\n",
    "        'Rotational speed': [Rotational_speed],\n",
    "        'Torque': [Torque],\n",
    "        'Tool wear': [Tool_wear],\n",
    "        'Type_Encoded': [Type_Encoded]\n",
    "    })\n",
    "\n",
    "    # Make prediction\n",
    "    prediction_encoded = model.predict(input_data)[0]\n",
    "    prediction = failure_label_mapping[prediction_encoded]\n",
    "    return prediction\n",
    "\n",
    "# Streamlit UI\n",
    "st.title('Predict Machine Failure')\n",
    "st.write('Enter the following parameters to predict machine failure:')\n",
    "\n",
    "# Input fields\n",
    "UDI = st.number_input('UDI', step=1)\n",
    "Air_temperature = st.number_input('Air temperature', format=\"%.1f\")\n",
    "Process_temperature = st.number_input('Process temperature', format=\"%.1f\")\n",
    "Rotational_speed = st.number_input('Rotational speed', format=\"%.1f\")\n",
    "Torque = st.number_input('Torque', format=\"%.1f\")\n",
    "Tool_wear = st.number_input('Tool wear', format=\"%.1f\")\n",
    "Type_Input = st.selectbox('Type', list(type_label_mapping.keys()))\n",
    "\n",
    "# Convert input type to encoded value\n",
    "Type_Encoded = type_label_mapping.get(Type_Input)\n",
    "\n",
    "# Prediction button\n",
    "if st.button('Predict'):\n",
    "    if Type_Encoded is not None:\n",
    "        # Call the prediction function\n",
    "        prediction = predict_failure(UDI, Air_temperature, Process_temperature, Rotational_speed, Torque, Tool_wear, Type_Encoded)\n",
    "        \n",
    "        # Display prediction\n",
    "        st.write('Prediction:', prediction)\n",
    "    else:\n",
    "        st.error(\"Invalid type selected. Please select a valid type.\")\n"
   ]
  },
  {
   "cell_type": "code",
   "execution_count": 3,
   "id": "40f3a597",
   "metadata": {},
   "outputs": [
    {
     "ename": "SyntaxError",
     "evalue": "invalid syntax (2715773281.py, line 1)",
     "output_type": "error",
     "traceback": [
      "\u001b[1;36m  Cell \u001b[1;32mIn[3], line 1\u001b[1;36m\u001b[0m\n\u001b[1;33m    streamlit run C:\\Users\\Raja\\AppData\\Roaming\\Python\\Python311\\site-packages\\ipykernel_launcher.py [ARGUMENTS]\u001b[0m\n\u001b[1;37m              ^\u001b[0m\n\u001b[1;31mSyntaxError\u001b[0m\u001b[1;31m:\u001b[0m invalid syntax\n"
     ]
    }
   ],
   "source": [
    "streamlit run C:\\Users\\Raja\\AppData\\Roaming\\Python\\Python311\\site-packages\\ipykernel_launcher.py [ARGUMENTS]\n"
   ]
  }
 ],
 "metadata": {
  "kernelspec": {
   "display_name": "Python 3 (ipykernel)",
   "language": "python",
   "name": "python3"
  },
  "language_info": {
   "codemirror_mode": {
    "name": "ipython",
    "version": 3
   },
   "file_extension": ".py",
   "mimetype": "text/x-python",
   "name": "python",
   "nbconvert_exporter": "python",
   "pygments_lexer": "ipython3",
   "version": "3.11.5"
  }
 },
 "nbformat": 4,
 "nbformat_minor": 5
}
